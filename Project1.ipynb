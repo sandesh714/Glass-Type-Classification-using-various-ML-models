{
 "cells": [
  {
   "cell_type": "markdown",
   "id": "82c26027",
   "metadata": {},
   "source": [
    "# Machine Learning Project 1"
   ]
  },
  {
   "cell_type": "markdown",
   "id": "5aa46029",
   "metadata": {},
   "source": [
    "## Glass type identification with Machine Learning"
   ]
  },
  {
   "cell_type": "markdown",
   "id": "dbfbc743",
   "metadata": {},
   "source": [
    "The study is mainly focused on classification of different types of glasses. The study of classification of glasses is motivated by crimonological investigation. In the dataset, there are total of 214 glasses with 10 features. The 10 features are:\n",
    "1. Id number: 1 to 214\n",
    "2. RI: refractive index\n",
    "3. Na: Sodium (unit measurement: weight percent in corresponding oxide, as are attributes 4-10)\n",
    "4. Mg: Magnesium\n",
    "5. Al: Aluminum\n",
    "6. Si: Silicon\n",
    "7. K: Potassium\n",
    "8. Ca: Calcium\n",
    "9. Ba: Barium\n",
    "10. Fe: Iron\n",
    "11. Type of glass: (class attribute)\n",
    "    \n",
    "There are 7 types of glasses to be predicted which are mapped to value of 1-7\n",
    "1. building_windows_float_processed\n",
    "2. building_windows_non_float_processed\n",
    "3. vehicle_windows_float_processed\n",
    "4. vehicle_windows_non_float_processed (none in this database)\n",
    "5. containers\n",
    "6. tableware\n",
    "7. headlamps\n",
    "\n",
    "Link to dataset: https://archive.ics.uci.edu/ml/datasets/glass+identification\n"
   ]
  },
  {
   "cell_type": "code",
   "execution_count": 1,
   "id": "03ad0caa",
   "metadata": {},
   "outputs": [
    {
     "name": "stdout",
     "output_type": "stream",
     "text": [
      "<class 'pandas.core.frame.DataFrame'>\n",
      "RangeIndex: 214 entries, 0 to 213\n",
      "Data columns (total 11 columns):\n",
      " #   Column    Non-Null Count  Dtype  \n",
      "---  ------    --------------  -----  \n",
      " 0   column_a  214 non-null    int64  \n",
      " 1   column_b  214 non-null    float64\n",
      " 2   column_c  214 non-null    float64\n",
      " 3   column_d  214 non-null    float64\n",
      " 4   column_e  214 non-null    float64\n",
      " 5   column_f  214 non-null    float64\n",
      " 6   column_g  214 non-null    float64\n",
      " 7   column_h  214 non-null    float64\n",
      " 8   column_i  214 non-null    float64\n",
      " 9   column_j  214 non-null    float64\n",
      " 10  column_k  214 non-null    int64  \n",
      "dtypes: float64(9), int64(2)\n",
      "memory usage: 18.5 KB\n"
     ]
    }
   ],
   "source": [
    "import graphviz\n",
    "import matplotlib.pyplot as plt\n",
    "import numpy as np\n",
    "import pandas as pd\n",
    "from sklearn import tree\n",
    "from sklearn.ensemble import RandomForestClassifier\n",
    "from sklearn.ensemble import VotingClassifier\n",
    "from sklearn.linear_model import LogisticRegression\n",
    "from sklearn.metrics import f1_score\n",
    "from sklearn.metrics import make_scorer\n",
    "from sklearn.metrics import plot_confusion_matrix\n",
    "from sklearn.metrics import precision_score\n",
    "from sklearn.metrics import recall_score\n",
    "from sklearn.model_selection import train_test_split\n",
    "from sklearn.model_selection import GridSearchCV\n",
    "from sklearn.neural_network import MLPClassifier\n",
    "from sklearn.preprocessing import StandardScaler\n",
    "from sklearn.svm import SVC\n",
    "from sklearn.tree import DecisionTreeClassifier\n",
    "from sklearn.utils import resample\n",
    "from sklearn.preprocessing import LabelEncoder\n",
    "from sklearn.model_selection import KFold\n",
    "from sklearn.model_selection import cross_val_score\n",
    "\n",
    "\n",
    "\n",
    "df = pd.read_csv('glass_data.csv')\n",
    "\n",
    "df.info()\n",
    "\n",
    "# Array to keep our best scores\n",
    "best_scores = []\n"
   ]
  },
  {
   "cell_type": "code",
   "execution_count": 2,
   "id": "140aebd1",
   "metadata": {},
   "outputs": [],
   "source": [
    "label_encoder = LabelEncoder()\n",
    "df[\"column_k\"] = label_encoder.fit_transform(df[\"column_k\"])"
   ]
  },
  {
   "cell_type": "code",
   "execution_count": 3,
   "id": "c33e3eaf",
   "metadata": {},
   "outputs": [],
   "source": [
    "df = df.rename(columns = {\n",
    "    'column_a': 'id',\n",
    "    'column_b': 'RI',\n",
    "    'column_c': 'Na', \n",
    "    'column_d': 'Mg',\n",
    "    'column_e': 'Al',\n",
    "    'column_f': 'Si',\n",
    "    'column_g': 'K',\n",
    "    'column_h': 'Ca',\n",
    "    'column_i': 'Ba',\n",
    "    'column_j': 'Fe',\n",
    "    'column_k': 'TOG'\n",
    "})\n"
   ]
  },
  {
   "cell_type": "code",
   "execution_count": null,
   "id": "92e58507",
   "metadata": {},
   "outputs": [],
   "source": []
  },
  {
   "cell_type": "code",
   "execution_count": 4,
   "id": "495750b5",
   "metadata": {},
   "outputs": [
    {
     "data": {
      "text/html": [
       "<div>\n",
       "<style scoped>\n",
       "    .dataframe tbody tr th:only-of-type {\n",
       "        vertical-align: middle;\n",
       "    }\n",
       "\n",
       "    .dataframe tbody tr th {\n",
       "        vertical-align: top;\n",
       "    }\n",
       "\n",
       "    .dataframe thead th {\n",
       "        text-align: right;\n",
       "    }\n",
       "</style>\n",
       "<table border=\"1\" class=\"dataframe\">\n",
       "  <thead>\n",
       "    <tr style=\"text-align: right;\">\n",
       "      <th></th>\n",
       "      <th>RI</th>\n",
       "      <th>Na</th>\n",
       "      <th>Mg</th>\n",
       "      <th>Al</th>\n",
       "      <th>Si</th>\n",
       "      <th>K</th>\n",
       "      <th>Ca</th>\n",
       "      <th>Ba</th>\n",
       "      <th>Fe</th>\n",
       "      <th>TOG</th>\n",
       "    </tr>\n",
       "  </thead>\n",
       "  <tbody>\n",
       "    <tr>\n",
       "      <th>0</th>\n",
       "      <td>1.52101</td>\n",
       "      <td>13.64</td>\n",
       "      <td>4.49</td>\n",
       "      <td>1.10</td>\n",
       "      <td>71.78</td>\n",
       "      <td>0.06</td>\n",
       "      <td>8.75</td>\n",
       "      <td>0.0</td>\n",
       "      <td>0.0</td>\n",
       "      <td>0</td>\n",
       "    </tr>\n",
       "    <tr>\n",
       "      <th>1</th>\n",
       "      <td>1.51761</td>\n",
       "      <td>13.89</td>\n",
       "      <td>3.60</td>\n",
       "      <td>1.36</td>\n",
       "      <td>72.73</td>\n",
       "      <td>0.48</td>\n",
       "      <td>7.83</td>\n",
       "      <td>0.0</td>\n",
       "      <td>0.0</td>\n",
       "      <td>0</td>\n",
       "    </tr>\n",
       "    <tr>\n",
       "      <th>2</th>\n",
       "      <td>1.51618</td>\n",
       "      <td>13.53</td>\n",
       "      <td>3.55</td>\n",
       "      <td>1.54</td>\n",
       "      <td>72.99</td>\n",
       "      <td>0.39</td>\n",
       "      <td>7.78</td>\n",
       "      <td>0.0</td>\n",
       "      <td>0.0</td>\n",
       "      <td>0</td>\n",
       "    </tr>\n",
       "    <tr>\n",
       "      <th>3</th>\n",
       "      <td>1.51766</td>\n",
       "      <td>13.21</td>\n",
       "      <td>3.69</td>\n",
       "      <td>1.29</td>\n",
       "      <td>72.61</td>\n",
       "      <td>0.57</td>\n",
       "      <td>8.22</td>\n",
       "      <td>0.0</td>\n",
       "      <td>0.0</td>\n",
       "      <td>0</td>\n",
       "    </tr>\n",
       "    <tr>\n",
       "      <th>4</th>\n",
       "      <td>1.51742</td>\n",
       "      <td>13.27</td>\n",
       "      <td>3.62</td>\n",
       "      <td>1.24</td>\n",
       "      <td>73.08</td>\n",
       "      <td>0.55</td>\n",
       "      <td>8.07</td>\n",
       "      <td>0.0</td>\n",
       "      <td>0.0</td>\n",
       "      <td>0</td>\n",
       "    </tr>\n",
       "  </tbody>\n",
       "</table>\n",
       "</div>"
      ],
      "text/plain": [
       "        RI     Na    Mg    Al     Si     K    Ca   Ba   Fe  TOG\n",
       "0  1.52101  13.64  4.49  1.10  71.78  0.06  8.75  0.0  0.0    0\n",
       "1  1.51761  13.89  3.60  1.36  72.73  0.48  7.83  0.0  0.0    0\n",
       "2  1.51618  13.53  3.55  1.54  72.99  0.39  7.78  0.0  0.0    0\n",
       "3  1.51766  13.21  3.69  1.29  72.61  0.57  8.22  0.0  0.0    0\n",
       "4  1.51742  13.27  3.62  1.24  73.08  0.55  8.07  0.0  0.0    0"
      ]
     },
     "execution_count": 4,
     "metadata": {},
     "output_type": "execute_result"
    }
   ],
   "source": [
    "df = df.iloc[:, 1:]\n",
    "df.head()"
   ]
  },
  {
   "cell_type": "code",
   "execution_count": 5,
   "id": "cafc3bee",
   "metadata": {},
   "outputs": [
    {
     "data": {
      "text/plain": [
       "False"
      ]
     },
     "execution_count": 5,
     "metadata": {},
     "output_type": "execute_result"
    }
   ],
   "source": [
    "df.isnull().values.any()"
   ]
  },
  {
   "cell_type": "code",
   "execution_count": 6,
   "id": "6dba467e",
   "metadata": {},
   "outputs": [],
   "source": [
    "X = df.drop('TOG', axis = 1).values\n",
    "y = df['TOG'].values"
   ]
  },
  {
   "cell_type": "markdown",
   "id": "cabe0030",
   "metadata": {},
   "source": [
    "#### Splitting data"
   ]
  },
  {
   "cell_type": "code",
   "execution_count": 30,
   "id": "e97cd4b1",
   "metadata": {},
   "outputs": [],
   "source": [
    "\n",
    "from sklearn.model_selection import train_test_split\n",
    "\n",
    "X_train, X_test, y_train, y_test = train_test_split(X,y,test_size=0.3,random_state=42)"
   ]
  },
  {
   "cell_type": "markdown",
   "id": "6507fadb",
   "metadata": {},
   "source": [
    "#### Standarizing the data"
   ]
  },
  {
   "cell_type": "code",
   "execution_count": 8,
   "id": "c4fda223",
   "metadata": {},
   "outputs": [],
   "source": [
    "#standardizing \n",
    "ss = StandardScaler()\n",
    "X_train_std = ss.fit_transform(X_train)\n",
    "X_test_std = ss.transform(X_test)"
   ]
  },
  {
   "cell_type": "markdown",
   "id": "1f2c3455",
   "metadata": {},
   "source": [
    "## Logistic Regression"
   ]
  },
  {
   "cell_type": "code",
   "execution_count": 18,
   "id": "0669c8f9",
   "metadata": {},
   "outputs": [],
   "source": [
    "c = [1,10,100,1000]\n",
    "\n",
    "grid = [\n",
    "    #Using L1 penalty\n",
    "    {'penalty': ['l1'], 'solver': ['saga'],'C':c},\n",
    "    #Using L2 penalty\n",
    "    {'penalty': ['l2'], 'solver': ['newton-cg','lbfgs', 'sag', 'saga' ],'C':c}\n",
    "]\n",
    "\n",
    "logreg = LogisticRegression(max_iter = 5000)"
   ]
  },
  {
   "cell_type": "markdown",
   "id": "0f51e69b",
   "metadata": {},
   "source": [
    "### Logistic Regression using Precision"
   ]
  },
  {
   "cell_type": "code",
   "execution_count": 19,
   "id": "efffc7a2",
   "metadata": {},
   "outputs": [],
   "source": [
    "logreg_gscv_precision = GridSearchCV(estimator=logreg,param_grid = grid,cv = 5,n_jobs = -1, refit = True, scoring = \"precision_micro\" )\n",
    "logreg_gscv_precision.fit(X_train_std, y_train)\n",
    "\n",
    "\n",
    "##Scores\n",
    "best_logreg_precision = logreg_gscv_precision.best_estimator_\n",
    "best_hyperparam = logreg_gscv_precision.best_params_\n",
    "best_training_score = logreg_gscv_precision.best_score_\n",
    "best_testscore = best_logreg_precision.score(X_test_std, y_test)\n",
    "best_scores.append([best_training_score, best_testscore])"
   ]
  },
  {
   "cell_type": "code",
   "execution_count": 20,
   "id": "2f9b2216",
   "metadata": {
    "scrolled": false
   },
   "outputs": [
    {
     "name": "stdout",
     "output_type": "stream",
     "text": [
      "Best hyperparameter using precision: \n",
      "{'C': 10, 'penalty': 'l2', 'solver': 'newton-cg'}\n",
      "Best Training score using precision: \n",
      "0.6445977011494253\n",
      "Best Test Score using precision: \n",
      "0.6615384615384615\n"
     ]
    }
   ],
   "source": [
    "print('Best hyperparameter using precision: ')\n",
    "print(best_hyperparam)\n",
    "print('Best Training score using precision: ')\n",
    "print(best_training_score)\n",
    "print('Best Test Score using precision: ')\n",
    "print(best_testscore)\n"
   ]
  },
  {
   "cell_type": "markdown",
   "id": "7a6214d3",
   "metadata": {},
   "source": [
    "### Logistic regression using recall"
   ]
  },
  {
   "cell_type": "code",
   "execution_count": 21,
   "id": "9c3219ca",
   "metadata": {},
   "outputs": [],
   "source": [
    "logreg_gscv_recall = GridSearchCV(estimator = logreg, param_grid = grid, cv = 5, n_jobs = -1, scoring = 'recall_macro', refit = True)\n",
    "\n",
    "logreg_gscv_recall.fit(X_train_std, y_train)\n",
    "\n",
    "\n",
    "best_logreg_recall = logreg_gscv_recall.best_estimator_\n",
    "best_hyperparam = logreg_gscv_recall.best_params_\n",
    "best_train_score = logreg_gscv_recall.best_score_\n",
    "best_testscore = best_logreg_recall.score(X_test_std, y_test)\n",
    "best_scores.append([best_train_score, best_testscore])\n"
   ]
  },
  {
   "cell_type": "code",
   "execution_count": 22,
   "id": "9383b4df",
   "metadata": {},
   "outputs": [
    {
     "name": "stdout",
     "output_type": "stream",
     "text": [
      "Best hyperparameter using precision: \n",
      "{'C': 10, 'penalty': 'l2', 'solver': 'newton-cg'}\n",
      "Best Training score using precision: \n",
      "0.6305050505050505\n",
      "Best Test Score using precision: \n",
      "0.6615384615384615\n"
     ]
    }
   ],
   "source": [
    "print('Best hyperparameter using precision: ')\n",
    "print(best_hyperparam)\n",
    "print('Best Training score using precision: ')\n",
    "print(best_train_score)\n",
    "print('Best Test Score using precision: ')\n",
    "print(best_testscore)"
   ]
  },
  {
   "cell_type": "markdown",
   "id": "23222343",
   "metadata": {},
   "source": [
    "### Logistic regression with f1"
   ]
  },
  {
   "cell_type": "code",
   "execution_count": 23,
   "id": "f43f3530",
   "metadata": {},
   "outputs": [
    {
     "name": "stdout",
     "output_type": "stream",
     "text": [
      "Best hyperparameter using recall: \n",
      "{'C': 10, 'penalty': 'l2', 'solver': 'newton-cg'}\n",
      "Best Training score using recall: \n",
      "0.6109088360575774\n",
      "Best Test Score using recall: \n",
      "0.6615384615384615\n"
     ]
    }
   ],
   "source": [
    "logreg_gscv_f1 = GridSearchCV(estimator = logreg, param_grid = grid, cv = 5, n_jobs = -1, scoring = 'f1_macro')\n",
    "logreg_gscv_f1.fit(X_train_std, y_train)\n",
    "\n",
    "\n",
    "best_logreg_f1 = logreg_gscv_f1.best_estimator_\n",
    "best_hyperparam = logreg_gscv_f1.best_params_\n",
    "best_trainscore = logreg_gscv_f1.best_score_\n",
    "best_testscore = best_logreg_f1.score(X_test_std, y_test)\n",
    "\n",
    "print('Best hyperparameter using recall: ')\n",
    "print(best_hyperparam)\n",
    "print('Best Training score using recall: ')\n",
    "print(best_trainscore)\n",
    "print('Best Test Score using recall: ')\n",
    "print(best_testscore)\n",
    "best_scores.append([best_trainscore, best_testscore])"
   ]
  },
  {
   "cell_type": "markdown",
   "id": "fe945c6e",
   "metadata": {},
   "source": [
    "#### K Fold Cross Validation for Logistic Regression with precision"
   ]
  },
  {
   "cell_type": "code",
   "execution_count": 24,
   "id": "e5b0d48a",
   "metadata": {},
   "outputs": [
    {
     "name": "stderr",
     "output_type": "stream",
     "text": [
      "/home/sergeant/.local/lib/python3.9/site-packages/sklearn/model_selection/_split.py:676: UserWarning: The least populated class in y has only 4 members, which is less than n_splits=5.\n",
      "  warnings.warn(\n",
      "/home/sergeant/.local/lib/python3.9/site-packages/sklearn/model_selection/_split.py:676: UserWarning: The least populated class in y has only 3 members, which is less than n_splits=5.\n",
      "  warnings.warn(\n"
     ]
    },
    {
     "name": "stdout",
     "output_type": "stream",
     "text": [
      "Accuracy: 59.678% (6.686%)\n"
     ]
    }
   ],
   "source": [
    "kfold = KFold(n_splits=5, random_state=42, shuffle=True)\n",
    "results = cross_val_score(logreg_gscv_precision, X_train_std, y_train, cv=kfold, verbose = False)# Output the accuracy. Calculate the mean and std across all folds. \n",
    "print(\"Accuracy: %.3f%% (%.3f%%)\" % (results.mean()*100.0, results.std()*100.0))"
   ]
  },
  {
   "cell_type": "markdown",
   "id": "7130fecf",
   "metadata": {},
   "source": [
    "## SVM"
   ]
  },
  {
   "cell_type": "code",
   "execution_count": 10,
   "id": "3bc349f6",
   "metadata": {},
   "outputs": [],
   "source": [
    "degree_range = [2,3,4,5,6]\n",
    "\n",
    "grid = [\n",
    "    {'degree': degree_range, 'kernel': ['linear', 'rbf', 'sigmoid', 'poly'], 'gamma' : ['scale', 'auto'], 'C': [10,100]}\n",
    "]\n",
    "\n",
    "svc = SVC(max_iter = 100000, class_weight = \"balanced\")"
   ]
  },
  {
   "cell_type": "markdown",
   "id": "fbe5475d",
   "metadata": {},
   "source": [
    "### SVM using precision"
   ]
  },
  {
   "cell_type": "code",
   "execution_count": 11,
   "id": "b4473566",
   "metadata": {},
   "outputs": [],
   "source": [
    "svc_precision_gscv = GridSearchCV(estimator = svc, param_grid = grid, cv = 5, n_jobs = -1, scoring = 'precision_micro', verbose = False)\n",
    "svc_precision_gscv.fit(X_train_std, y_train)\n",
    "\n",
    "best_svc_precision = svc_precision_gscv.best_estimator_\n",
    "best_hyperparam_svc1 = svc_precision_gscv.best_params_\n",
    "best_trainscore_svc1 = best_svc_precision.score(X_train_std, y_train)\n",
    "best_testscore_svc1 = best_svc_precision.score(X_test_std, y_test)"
   ]
  },
  {
   "cell_type": "code",
   "execution_count": 27,
   "id": "20505ba4",
   "metadata": {},
   "outputs": [
    {
     "name": "stdout",
     "output_type": "stream",
     "text": [
      "Best hyperparameter: \n",
      "{'C': 100, 'degree': 2, 'gamma': 'scale', 'kernel': 'linear'}\n",
      "Best Training score: \n",
      "0.7718120805369127\n",
      "Best Test Score: \n",
      "0.676923076923077\n"
     ]
    }
   ],
   "source": [
    "best_scores.append([best_trainscore_svc1, best_testscore_svc1])\n",
    "\n",
    "\n",
    "print('Best hyperparameter: ')\n",
    "print(best_hyperparam_svc1)\n",
    "print('Best Training score: ')\n",
    "print(best_trainscore_svc1)\n",
    "print('Best Test Score: ')\n",
    "print(best_testscore_svc1)"
   ]
  },
  {
   "cell_type": "markdown",
   "id": "d780d744",
   "metadata": {},
   "source": [
    "### svm using recall"
   ]
  },
  {
   "cell_type": "code",
   "execution_count": 28,
   "id": "877a0d01",
   "metadata": {},
   "outputs": [],
   "source": [
    "svc_recall_gscv = GridSearchCV(estimator = svc, param_grid = grid, cv = 5, n_jobs = -1,scoring = 'recall_macro')\n",
    "svc_recall_gscv.fit(X_train_std, y_train)\n",
    "\n",
    "\n",
    "best_svc_recall = svc_recall_gscv.best_estimator_\n",
    "best_hyperparam_svc2 = svc_recall_gscv.best_params_\n",
    "best_trainscore_svc2 = svc_recall_gscv.best_score_\n",
    "best_testscore_svc2 = best_svc_recall.score(X_test_std, y_test)"
   ]
  },
  {
   "cell_type": "code",
   "execution_count": 29,
   "id": "368bc3c6",
   "metadata": {},
   "outputs": [
    {
     "name": "stdout",
     "output_type": "stream",
     "text": [
      "Best hyperparameter: \n",
      "{'C': 100, 'degree': 2, 'gamma': 'scale', 'kernel': 'linear'}\n",
      "Best Training score: \n",
      "0.6722222222222223\n",
      "Best Test Score: \n",
      "0.676923076923077\n"
     ]
    }
   ],
   "source": [
    "best_scores.append([best_trainscore_svc2, best_testscore_svc2])\n",
    "\n",
    "\n",
    "print('Best hyperparameter: ')\n",
    "print(best_hyperparam_svc2)\n",
    "print('Best Training score: ')\n",
    "print(best_trainscore_svc2)\n",
    "print('Best Test Score: ')\n",
    "print(best_testscore_svc2)\n"
   ]
  },
  {
   "cell_type": "markdown",
   "id": "458e59b6",
   "metadata": {},
   "source": [
    "### svm using f1"
   ]
  },
  {
   "cell_type": "code",
   "execution_count": 30,
   "id": "a4552294",
   "metadata": {},
   "outputs": [],
   "source": [
    "svc_gscv_f1 = GridSearchCV(estimator = svc, param_grid = grid, cv = 5, n_jobs = -1, scoring = 'f1_macro')\n",
    "svc_gscv_f1.fit(X_train_std, y_train)\n",
    "\n",
    "best_svc_f1 = svc_gscv_f1.best_estimator_\n",
    "best_hyperparam_f1 = svc_gscv_f1.best_params_\n",
    "best_trainscore_f1 = svc_gscv_f1.best_score_\n",
    "best_testscore_f1 = best_svc_f1.score(X_test_std, y_test)"
   ]
  },
  {
   "cell_type": "code",
   "execution_count": 31,
   "id": "af38d27d",
   "metadata": {},
   "outputs": [
    {
     "name": "stdout",
     "output_type": "stream",
     "text": [
      "Best hyperparameter: \n",
      "{'C': 100, 'degree': 2, 'gamma': 'scale', 'kernel': 'linear'}\n",
      "Best Training score: \n",
      "0.651836825655711\n",
      "Best Test Score: \n",
      "0.676923076923077\n"
     ]
    }
   ],
   "source": [
    "best_scores.append([best_trainscore_f1, best_testscore_f1])\n",
    "\n",
    "\n",
    "print('Best hyperparameter: ')\n",
    "print(best_hyperparam_f1)\n",
    "print('Best Training score: ')\n",
    "print(best_trainscore_f1)\n",
    "print('Best Test Score: ')\n",
    "print(best_testscore_f1)"
   ]
  },
  {
   "cell_type": "markdown",
   "id": "e3683735",
   "metadata": {},
   "source": [
    "#### K Fold Cross Validation for SVM using f1"
   ]
  },
  {
   "cell_type": "code",
   "execution_count": 32,
   "id": "9621eab1",
   "metadata": {},
   "outputs": [
    {
     "name": "stderr",
     "output_type": "stream",
     "text": [
      "/home/sergeant/.local/lib/python3.9/site-packages/sklearn/model_selection/_split.py:676: UserWarning: The least populated class in y has only 4 members, which is less than n_splits=5.\n",
      "  warnings.warn(\n",
      "/home/sergeant/.local/lib/python3.9/site-packages/sklearn/model_selection/_split.py:676: UserWarning: The least populated class in y has only 3 members, which is less than n_splits=5.\n",
      "  warnings.warn(\n"
     ]
    },
    {
     "name": "stdout",
     "output_type": "stream",
     "text": [
      "Accuracy: 59.028% (11.406%)\n"
     ]
    }
   ],
   "source": [
    "kfold = KFold(n_splits=5, random_state=42, shuffle=True)\n",
    "results = cross_val_score(svc_gscv_f1, X_train_std, y_train, cv=kfold, verbose = False)# Output the accuracy. Calculate the mean and std across all folds. \n",
    "print(\"Accuracy: %.3f%% (%.3f%%)\" % (results.mean()*100.0, results.std()*100.0))"
   ]
  },
  {
   "cell_type": "markdown",
   "id": "fd91c2c2",
   "metadata": {},
   "source": [
    "# MLP Classifier"
   ]
  },
  {
   "cell_type": "code",
   "execution_count": 15,
   "id": "eb505a00",
   "metadata": {},
   "outputs": [],
   "source": [
    "range_grid = np.logspace(1,1,25, endpoint = True)\n",
    "grid = [\n",
    "    {'hidden_layer_sizes': [(12, ), (10,32)], 'activation': ['logistic', 'tanh', 'relu'], 'solver': ['lbfgs','adam', 'sgd'], 'alpha': range_grid}\n",
    "]\n",
    "\n",
    "mlp = MLPClassifier(max_iter = 2000)"
   ]
  },
  {
   "cell_type": "markdown",
   "id": "fe4e26ca",
   "metadata": {},
   "source": [
    "### MLP using precision"
   ]
  },
  {
   "cell_type": "code",
   "execution_count": 14,
   "id": "32e5b24e",
   "metadata": {},
   "outputs": [
    {
     "name": "stdout",
     "output_type": "stream",
     "text": [
      "Best hyperparameter: \n",
      "{'activation': 'relu', 'alpha': 10.0, 'hidden_layer_sizes': (12,), 'solver': 'adam'}\n",
      "Best training score: \n",
      "0.6912751677852349\n",
      "Best testing score: \n",
      "0.6307692307692307\n"
     ]
    }
   ],
   "source": [
    "mlp_gscv_precision = GridSearchCV(estimator = mlp, param_grid = grid, cv = 5, n_jobs = -1, scoring = 'precision_micro')\n",
    "mlp_gscv_precision.fit(X_train_std, y_train)\n",
    "\n",
    "best_mlp_precision = mlp_gscv_precision.best_estimator_\n",
    "\n",
    "#Best hyperparameters, training and testing score\n",
    "print(\"Best hyperparameter: \")\n",
    "print(mlp_gscv_precision.best_params_)\n",
    "print('Best training score: ')\n",
    "print(best_mlp_precision.score(X_train_std, y_train))\n",
    "print(\"Best testing score: \")\n",
    "print(best_mlp_precision.score(X_test_std, y_test))\n",
    "\n",
    "#Appending best training score and best testing score\n",
    "best_scores.append([best_mlp_precision.score(X_train_std, y_train), best_mlp_precision.score(X_test_std, y_test)])\n"
   ]
  },
  {
   "cell_type": "markdown",
   "id": "805b1b0a",
   "metadata": {},
   "source": [
    "### MLP Using recall"
   ]
  },
  {
   "cell_type": "code",
   "execution_count": 35,
   "id": "b3d85576",
   "metadata": {},
   "outputs": [
    {
     "name": "stdout",
     "output_type": "stream",
     "text": [
      "Best hyperparameter: \n",
      "{'activation': 'relu', 'alpha': 10.0, 'hidden_layer_sizes': (12,), 'solver': 'lbfgs'}\n",
      "Best training score: \n",
      "0.397070707070707\n",
      "Best testing score: \n",
      "0.6461538461538462\n"
     ]
    }
   ],
   "source": [
    "mlp_gscv_recall = GridSearchCV(estimator = mlp, param_grid = grid, cv = 5, n_jobs = -1, scoring = 'recall_macro')\n",
    "mlp_gscv_recall.fit(X_train_std, y_train)\n",
    "\n",
    "best_mlp_recall = mlp_gscv_recall.best_estimator_\n",
    "\n",
    "#Best hyperparameters, training and testing score\n",
    "print(\"Best hyperparameter: \")\n",
    "print(mlp_gscv_recall.best_params_)\n",
    "print('Best training score: ')\n",
    "print(mlp_gscv_recall.best_score_)\n",
    "print(\"Best testing score: \")\n",
    "print(best_mlp_recall.score(X_test_std, y_test))\n",
    "\n",
    "#Appending best training score and best testing score\n",
    "best_scores.append([mlp_gscv_recall.best_score_, best_mlp_recall.score(X_test_std, y_test)])"
   ]
  },
  {
   "cell_type": "markdown",
   "id": "384e6a93",
   "metadata": {},
   "source": [
    "### MLP using f1"
   ]
  },
  {
   "cell_type": "code",
   "execution_count": 36,
   "id": "fce68d08",
   "metadata": {},
   "outputs": [
    {
     "name": "stdout",
     "output_type": "stream",
     "text": [
      "Best hyperparameter: \n",
      "{'activation': 'relu', 'alpha': 10.0, 'hidden_layer_sizes': (12,), 'solver': 'adam'}\n",
      "Best training score: \n",
      "0.6912751677852349\n",
      "Best testing score: \n",
      "0.6153846153846154\n"
     ]
    }
   ],
   "source": [
    "mlp_gscv_f1 = GridSearchCV(estimator = mlp, param_grid = grid, cv = 5, n_jobs = -1, scoring = 'f1_macro')\n",
    "mlp_gscv_f1.fit(X_train_std, y_train)\n",
    "\n",
    "best_mlp_f1 = mlp_gscv_f1.best_estimator_\n",
    "\n",
    "#Best hyperparameters, training and testing score\n",
    "print(\"Best hyperparameter: \")\n",
    "print(mlp_gscv_f1.best_params_)\n",
    "print('Best training score: ')\n",
    "print(best_mlp_f1.score(X_train_std, y_train))\n",
    "print(\"Best testing score: \")\n",
    "print(best_mlp_f1.score(X_test_std, y_test))\n",
    "\n",
    "#Appending best training score and best testing score\n",
    "best_scores.append([best_mlp_f1.score(X_train_std, y_train),best_mlp_f1.score(X_test_std, y_test)])"
   ]
  },
  {
   "cell_type": "markdown",
   "id": "2f6292ed",
   "metadata": {},
   "source": []
  },
  {
   "cell_type": "code",
   "execution_count": null,
   "id": "a790aabf",
   "metadata": {},
   "outputs": [],
   "source": []
  },
  {
   "cell_type": "markdown",
   "id": "43ce713e",
   "metadata": {},
   "source": [
    "# Decision Tree Classifier"
   ]
  },
  {
   "cell_type": "code",
   "execution_count": 38,
   "id": "48259162",
   "metadata": {},
   "outputs": [],
   "source": [
    "grid = [\n",
    "  {'criterion' : ['gini', 'entropy'], 'splitter' : ['best', 'random'], 'ccp_alpha' : np.logspace(-3, 0, 20)},\n",
    "]\n",
    "\n",
    "tree = DecisionTreeClassifier(class_weight = \"balanced\")"
   ]
  },
  {
   "cell_type": "markdown",
   "id": "acc6e82d",
   "metadata": {},
   "source": [
    "### Decision tree using precision"
   ]
  },
  {
   "cell_type": "code",
   "execution_count": 41,
   "id": "d1c12c9e",
   "metadata": {},
   "outputs": [
    {
     "name": "stdout",
     "output_type": "stream",
     "text": [
      "Best hyperparameter: \n",
      "{'ccp_alpha': 0.002976351441631319, 'criterion': 'gini', 'splitter': 'random'}\n",
      "Best training score: \n",
      "0.9865771812080537\n",
      "Best testing score: \n",
      "0.6615384615384615\n"
     ]
    }
   ],
   "source": [
    "tree_precision_gscv = GridSearchCV(estimator=tree, param_grid=grid, cv = 5, n_jobs=-1, scoring='precision_micro')\n",
    "tree_precision_gscv.fit(X_train_std, y_train)\n",
    "\n",
    "best_tree_precision = tree_precision_gscv.best_estimator_\n",
    "\n",
    "#Best hyperparameters, training and testing score\n",
    "print(\"Best hyperparameter: \")\n",
    "print(tree_precision_gscv.best_params_)\n",
    "print('Best training score: ')\n",
    "print(best_tree_precision.score(X_train_std, y_train))\n",
    "print(\"Best testing score: \")\n",
    "print(best_tree_precision.score(X_test_std, y_test))\n",
    "\n",
    "#Appending best training score and best testing score\n",
    "best_scores.append([best_tree_precision.score(X_train_std, y_train), best_tree_precision.score(X_test_std, y_test)])"
   ]
  },
  {
   "cell_type": "markdown",
   "id": "63528c5a",
   "metadata": {},
   "source": [
    "### Decision Tree using recall"
   ]
  },
  {
   "cell_type": "code",
   "execution_count": 42,
   "id": "a3876020",
   "metadata": {},
   "outputs": [
    {
     "name": "stdout",
     "output_type": "stream",
     "text": [
      "Best hyperparameter: \n",
      "{'ccp_alpha': 0.018329807108324356, 'criterion': 'gini', 'splitter': 'random'}\n",
      "Best training score: \n",
      "0.6644295302013423\n",
      "Best testing score: \n",
      "0.6153846153846154\n"
     ]
    }
   ],
   "source": [
    "tree_recall_gscv = GridSearchCV(estimator=tree, param_grid=grid, cv = 5, n_jobs=-1, scoring='recall_macro')\n",
    "tree_recall_gscv.fit(X_train_std, y_train)\n",
    "\n",
    "best_tree_recall = tree_recall_gscv.best_estimator_\n",
    "\n",
    "#Best hyperparameters, training and testing score\n",
    "print(\"Best hyperparameter: \")\n",
    "print(tree_recall_gscv.best_params_)\n",
    "print('Best training score: ')\n",
    "print(best_tree_recall.score(X_train_std, y_train))\n",
    "print(\"Best testing score: \")\n",
    "print(best_tree_recall.score(X_test_std, y_test))\n",
    "\n",
    "#Appending best training score and best testing score\n",
    "best_scores.append([best_tree_recall.score(X_train_std, y_train), best_tree_recall.score(X_test_std, y_test)])"
   ]
  },
  {
   "cell_type": "markdown",
   "id": "559346f8",
   "metadata": {},
   "source": [
    "### Decision Tree using f1"
   ]
  },
  {
   "cell_type": "code",
   "execution_count": 43,
   "id": "1403ac71",
   "metadata": {},
   "outputs": [
    {
     "data": {
      "text/plain": [
       "GridSearchCV(cv=5, estimator=DecisionTreeClassifier(class_weight='balanced'),\n",
       "             n_jobs=-1,\n",
       "             param_grid=[{'ccp_alpha': array([0.001     , 0.00143845, 0.00206914, 0.00297635, 0.00428133,\n",
       "       0.00615848, 0.00885867, 0.01274275, 0.01832981, 0.02636651,\n",
       "       0.0379269 , 0.05455595, 0.078476  , 0.11288379, 0.16237767,\n",
       "       0.23357215, 0.33598183, 0.48329302, 0.6951928 , 1.        ]),\n",
       "                          'criterion': ['gini', 'entropy'],\n",
       "                          'splitter': ['best', 'random']}],\n",
       "             scoring='f1_macro')"
      ]
     },
     "execution_count": 43,
     "metadata": {},
     "output_type": "execute_result"
    }
   ],
   "source": [
    "tree_f1_gscv = GridSearchCV(estimator=tree, param_grid=grid, cv = 5, n_jobs=-1, scoring='f1_macro')\n",
    "tree_f1_gscv.fit(X_train_std, y_train)"
   ]
  },
  {
   "cell_type": "code",
   "execution_count": 58,
   "id": "70141943",
   "metadata": {},
   "outputs": [
    {
     "name": "stdout",
     "output_type": "stream",
     "text": [
      "Best hyperparameter: \n",
      "{'ccp_alpha': 0.001, 'criterion': 'gini', 'splitter': 'best'}\n",
      "Best training score: \n",
      "1.0\n",
      "Best testing score: \n",
      "0.7076923076923077\n"
     ]
    }
   ],
   "source": [
    "best_tree_f1 = tree_f1_gscv.best_estimator_\n",
    "\n",
    "#Best hyperparameters, training and testing score\n",
    "print(\"Best hyperparameter: \")\n",
    "print(tree_f1_gscv.best_params_)\n",
    "print('Best training score: ')\n",
    "print(best_tree_f1.score(X_train_std, y_train))\n",
    "print(\"Best testing score: \")\n",
    "print(best_tree_f1.score(X_test_std, y_test))\n",
    "\n",
    "#Appending best training score and best testing score\n",
    "best_scores.append([tree_f1_gscv.best_score_, best_tree_precision.score(X_test_std, y_test)])"
   ]
  },
  {
   "cell_type": "markdown",
   "id": "08a84315",
   "metadata": {},
   "source": [
    "#### K Fold Cross Validation for Decision Tree with f1"
   ]
  },
  {
   "cell_type": "code",
   "execution_count": 108,
   "id": "1e5ed526",
   "metadata": {},
   "outputs": [
    {
     "name": "stderr",
     "output_type": "stream",
     "text": [
      "/home/sergeant/.local/lib/python3.9/site-packages/sklearn/model_selection/_split.py:676: UserWarning: The least populated class in y has only 4 members, which is less than n_splits=5.\n",
      "  warnings.warn(\n",
      "/home/sergeant/.local/lib/python3.9/site-packages/sklearn/model_selection/_split.py:676: UserWarning: The least populated class in y has only 3 members, which is less than n_splits=5.\n",
      "  warnings.warn(\n"
     ]
    },
    {
     "name": "stdout",
     "output_type": "stream",
     "text": [
      "Accuracy: 57.323% (15.136%)\n"
     ]
    }
   ],
   "source": [
    "kfold = KFold(n_splits=5, random_state=42, shuffle=True)\n",
    "results = cross_val_score(tree_f1_gscv, X_train_std, y_train, cv=kfold, verbose = False)# Output the accuracy. Calculate the mean and std across all folds. \n",
    "print(\"Accuracy: %.3f%% (%.3f%%)\" % (results.mean()*100.0, results.std()*100.0))"
   ]
  },
  {
   "cell_type": "markdown",
   "id": "435f2efa",
   "metadata": {},
   "source": [
    "# Random Forest Classifier"
   ]
  },
  {
   "cell_type": "code",
   "execution_count": 27,
   "id": "63758d99",
   "metadata": {},
   "outputs": [],
   "source": [
    "#Creating param grids for Random Forest\n",
    "grid = [\n",
    "  {'criterion' : ['gini', 'entropy'], 'bootstrap' : ['True', 'False'],\n",
    "   'max_features' : ['auto', 'sqrt'], 'n_estimators' : [50], 'ccp_alpha' : np.logspace(-5, -1, 20)},\n",
    "]\n",
    "\n",
    "forest = RandomForestClassifier(class_weight='balanced')"
   ]
  },
  {
   "cell_type": "markdown",
   "id": "5afda168",
   "metadata": {},
   "source": [
    "### Random Forest using precision"
   ]
  },
  {
   "cell_type": "code",
   "execution_count": 83,
   "id": "e2b4fbee",
   "metadata": {},
   "outputs": [
    {
     "data": {
      "text/plain": [
       "GridSearchCV(cv=5, estimator=RandomForestClassifier(class_weight='balanced'),\n",
       "             n_jobs=-1,\n",
       "             param_grid=[{'bootstrap': ['True', 'False'],\n",
       "                          'ccp_alpha': array([1.00000000e-05, 1.62377674e-05, 2.63665090e-05, 4.28133240e-05,\n",
       "       6.95192796e-05, 1.12883789e-04, 1.83298071e-04, 2.97635144e-04,\n",
       "       4.83293024e-04, 7.84759970e-04, 1.27427499e-03, 2.06913808e-03,\n",
       "       3.35981829e-03, 5.45559478e-03, 8.85866790e-03, 1.43844989e-02,\n",
       "       2.33572147e-02, 3.79269019e-02, 6.15848211e-02, 1.00000000e-01]),\n",
       "                          'criterion': ['gini', 'entropy'],\n",
       "                          'max_features': ['auto', 'sqrt'],\n",
       "                          'n_estimators': [50]}],\n",
       "             return_train_score=True, scoring='precision_micro')"
      ]
     },
     "execution_count": 83,
     "metadata": {},
     "output_type": "execute_result"
    }
   ],
   "source": [
    "forest_precision_gs = GridSearchCV(estimator=forest, param_grid=grid, cv = 5, n_jobs=-1, scoring='precision_micro', return_train_score = True)\n",
    "forest_precision_gs.fit(X_train_std, y_train)"
   ]
  },
  {
   "cell_type": "code",
   "execution_count": 84,
   "id": "0c7d924e",
   "metadata": {},
   "outputs": [
    {
     "name": "stdout",
     "output_type": "stream",
     "text": [
      "Best Hyperparameters {'bootstrap': 'True', 'ccp_alpha': 1e-05, 'criterion': 'entropy', 'max_features': 'sqrt', 'n_estimators': 50}\n",
      "Training score: 1.0\n",
      "Test score: 0.7384615384615385\n"
     ]
    }
   ],
   "source": [
    "best_forest_precision = forest_precision_gs.best_estimator_\n",
    "\n",
    "print(\"Best Hyperparameters\", forest_precision_gs.best_params_)\n",
    "print('Training score:', best_forest_precision.score(X_train_std, y_train))\n",
    "print('Test score:', best_forest_precision.score(X_test_std, y_test))\n",
    "best_scores.append([best_forest_precision.score(X_train_std, y_train), best_forest_precision.score(X_test_std, y_test)])"
   ]
  },
  {
   "cell_type": "markdown",
   "id": "4a477011",
   "metadata": {},
   "source": [
    "### Random Forest using recall"
   ]
  },
  {
   "cell_type": "code",
   "execution_count": 35,
   "id": "2a534970",
   "metadata": {},
   "outputs": [
    {
     "name": "stderr",
     "output_type": "stream",
     "text": [
      "/home/sergeant/.local/lib/python3.9/site-packages/sklearn/model_selection/_split.py:676: UserWarning: The least populated class in y has only 6 members, which is less than n_splits=10.\n",
      "  warnings.warn(\n"
     ]
    },
    {
     "data": {
      "text/plain": [
       "GridSearchCV(cv=10, estimator=RandomForestClassifier(class_weight='balanced'),\n",
       "             n_jobs=-1,\n",
       "             param_grid=[{'bootstrap': ['True', 'False'],\n",
       "                          'ccp_alpha': array([1.00000000e-05, 1.62377674e-05, 2.63665090e-05, 4.28133240e-05,\n",
       "       6.95192796e-05, 1.12883789e-04, 1.83298071e-04, 2.97635144e-04,\n",
       "       4.83293024e-04, 7.84759970e-04, 1.27427499e-03, 2.06913808e-03,\n",
       "       3.35981829e-03, 5.45559478e-03, 8.85866790e-03, 1.43844989e-02,\n",
       "       2.33572147e-02, 3.79269019e-02, 6.15848211e-02, 1.00000000e-01]),\n",
       "                          'criterion': ['gini', 'entropy'],\n",
       "                          'max_features': ['auto', 'sqrt'],\n",
       "                          'n_estimators': [50]}],\n",
       "             return_train_score=True, scoring='recall_micro')"
      ]
     },
     "execution_count": 35,
     "metadata": {},
     "output_type": "execute_result"
    }
   ],
   "source": [
    "forest_recall_gs = GridSearchCV(estimator=forest, param_grid=grid, cv = 5, n_jobs=-1, scoring='recall_micro', return_train_score = True)\n",
    "forest_recall_gs.fit(X_train_std, y_train)"
   ]
  },
  {
   "cell_type": "code",
   "execution_count": 36,
   "id": "2b542cae",
   "metadata": {},
   "outputs": [
    {
     "name": "stdout",
     "output_type": "stream",
     "text": [
      "Best Hyperparameters {'bootstrap': 'True', 'ccp_alpha': 0.0012742749857031334, 'criterion': 'entropy', 'max_features': 'sqrt', 'n_estimators': 50}\n",
      "Training score: 1.0\n",
      "Test score: 0.7846153846153846\n"
     ]
    }
   ],
   "source": [
    "best_forest_recall = forest_recall_gs.best_estimator_\n",
    "\n",
    "print(\"Best Hyperparameters\", forest_recall_gs.best_params_)\n",
    "print('Training score:', best_forest_recall.score(X_train_std, y_train))\n",
    "print('Test score:', best_forest_recall.score(X_test_std, y_test))\n",
    "# best_scores.append([best_forest_recall.score(X_train_std, y_train), best_forest_recall.score(X_test_std, y_test)])"
   ]
  },
  {
   "cell_type": "markdown",
   "id": "a855837e",
   "metadata": {},
   "source": [
    "### Random Forest using f1"
   ]
  },
  {
   "cell_type": "code",
   "execution_count": 51,
   "id": "569f016c",
   "metadata": {},
   "outputs": [
    {
     "data": {
      "text/plain": [
       "GridSearchCV(cv=3, estimator=RandomForestClassifier(class_weight='balanced'),\n",
       "             n_jobs=-1,\n",
       "             param_grid=[{'bootstrap': ['True', 'False'],\n",
       "                          'ccp_alpha': array([1.00000000e-05, 1.62377674e-05, 2.63665090e-05, 4.28133240e-05,\n",
       "       6.95192796e-05, 1.12883789e-04, 1.83298071e-04, 2.97635144e-04,\n",
       "       4.83293024e-04, 7.84759970e-04, 1.27427499e-03, 2.06913808e-03,\n",
       "       3.35981829e-03, 5.45559478e-03, 8.85866790e-03, 1.43844989e-02,\n",
       "       2.33572147e-02, 3.79269019e-02, 6.15848211e-02, 1.00000000e-01]),\n",
       "                          'criterion': ['gini', 'entropy'],\n",
       "                          'max_features': ['auto', 'sqrt'],\n",
       "                          'n_estimators': [50]}],\n",
       "             scoring='f1_macro')"
      ]
     },
     "execution_count": 51,
     "metadata": {},
     "output_type": "execute_result"
    }
   ],
   "source": [
    "forest_f1_gs = GridSearchCV(estimator=forest, param_grid=grid, cv = 3, n_jobs=-1,scoring='f1_macro')\n",
    "forest_f1_gs.fit(X_train_std, y_train)"
   ]
  },
  {
   "cell_type": "code",
   "execution_count": 52,
   "id": "8d16abce",
   "metadata": {},
   "outputs": [
    {
     "name": "stdout",
     "output_type": "stream",
     "text": [
      "Best Hyperparameters {'bootstrap': 'False', 'ccp_alpha': 1.623776739188721e-05, 'criterion': 'gini', 'max_features': 'auto', 'n_estimators': 50}\n",
      "Training score: 1.0\n",
      "Test score: 0.7846153846153846\n"
     ]
    }
   ],
   "source": [
    "best_forest_f1 = forest_f1_gs.best_estimator_\n",
    "\n",
    "print(\"Best Hyperparameters\", forest_f1_gs.best_params_)\n",
    "print('Training score:', best_forest_f1.score(X_train_std, y_train))\n",
    "print('Test score:', best_forest_f1.score(X_test_std, y_test))\n",
    "best_scores.append([best_forest_f1.score(X_train_std, y_train), best_forest_f1.score(X_test_std, y_test)])"
   ]
  },
  {
   "cell_type": "markdown",
   "id": "4c8b6c80",
   "metadata": {},
   "source": [
    "# plotting confusion matrix for Random Forest with recall"
   ]
  },
  {
   "cell_type": "code",
   "execution_count": 37,
   "id": "986a9b23",
   "metadata": {},
   "outputs": [
    {
     "name": "stderr",
     "output_type": "stream",
     "text": [
      "/home/sergeant/.local/lib/python3.9/site-packages/sklearn/utils/deprecation.py:87: FutureWarning: Function plot_confusion_matrix is deprecated; Function `plot_confusion_matrix` is deprecated in 1.0 and will be removed in 1.2. Use one of the class methods: ConfusionMatrixDisplay.from_predictions or ConfusionMatrixDisplay.from_estimator.\n",
      "  warnings.warn(msg, category=FutureWarning)\n"
     ]
    },
    {
     "data": {
      "image/png": "[encoded data removed]",
      "text/plain": [
       "<Figure size 432x288 with 2 Axes>"
      ]
     },
     "metadata": {
      "needs_background": "light"
     },
     "output_type": "display_data"
    }
   ],
   "source": [
    "plot_confusion_matrix(best_forest_recall, X_test_std, y_test)\n",
    "plt.show()"
   ]
  },
  {
   "cell_type": "markdown",
   "id": "7a8688c5",
   "metadata": {},
   "source": [
    "# PCA"
   ]
  },
  {
   "cell_type": "code",
   "execution_count": 54,
   "id": "01142fa4",
   "metadata": {
    "scrolled": true
   },
   "outputs": [
    {
     "data": {
      "text/plain": [
       "Text(0, 0.5, 'PC2')"
      ]
     },
     "execution_count": 54,
     "metadata": {},
     "output_type": "execute_result"
    },
    {
     "data": {
      "image/png": "[encoded data removed]",
      "text/plain": [
       "<Figure size 432x288 with 1 Axes>"
      ]
     },
     "metadata": {
      "needs_background": "light"
     },
     "output_type": "display_data"
    }
   ],
   "source": [
    "from sklearn.decomposition import PCA\n",
    "pca = PCA(n_components = 2)\n",
    "X_train_pca = pca.fit_transform(X_train_std)\n",
    "X_test_pca = pca.transform(X_test_std)\n",
    "plt.scatter(X_train_pca[:,0], X_train_pca[:,1])\n",
    "plt.xlabel('PC1')\n",
    "plt.ylabel('PC2')"
   ]
  },
  {
   "cell_type": "code",
   "execution_count": null,
   "id": "2f0c23e3",
   "metadata": {},
   "outputs": [],
   "source": []
  },
  {
   "cell_type": "markdown",
   "id": "f94dc9af",
   "metadata": {},
   "source": [
    "# Ensemble Learning"
   ]
  },
  {
   "cell_type": "code",
   "execution_count": 55,
   "id": "eb93680f",
   "metadata": {},
   "outputs": [
    {
     "name": "stdout",
     "output_type": "stream",
     "text": [
      "Training score  0.8926174496644296\n",
      "Testing score  0.7384615384615385\n"
     ]
    }
   ],
   "source": [
    "voting_cls = VotingClassifier(estimators=[\n",
    "                                          ('Logistic Regression Precison metric', best_logreg_precision),\n",
    "                                          ('Logistic Regression Recall metric', best_logreg_recall),\n",
    "                                          ('Logistic Regression F1 metric', best_logreg_f1),\n",
    "                                          ('SVM Precision metric', best_svc_precision),\n",
    "                                          ('SVM Recall metric', best_svc_recall),\n",
    "                                          ('SVM F1 metric', best_svc_f1),\n",
    "                                          ('MLP Precision metric', best_mlp_precision),\n",
    "                                          ('MLP Classifier Recall metric', best_mlp_recall),\n",
    "                                          ('MLP Classifier F1 metric', best_mlp_f1),\n",
    "                                          ('Decision Tree Precision metric', best_tree_precision),\n",
    "                                          ('Decision Tree Recall metric', best_tree_recall),\n",
    "                                          ('Decision Tree F1 metric', best_tree_f1),\n",
    "                                          ('Random Forest Precision metric', best_forest_precision),\n",
    "                                          ('Random Forest Recall metric', best_forest_recall),\n",
    "                                          ('Random Forest F1 metric', best_forest_f1)\n",
    "                                          ], voting = 'hard')\n",
    "voting_cls = voting_cls.fit(X_train_std, y_train)\n",
    "print('Training score ', voting_cls.score(X_train_std, y_train))\n",
    "print('Testing score ', voting_cls.score(X_test_std, y_test))\n",
    "best_scores.append([voting_cls.score(X_train_std, y_train), voting_cls.score(X_test_std, y_test)])"
   ]
  },
  {
   "cell_type": "code",
   "execution_count": null,
   "id": "7864562f",
   "metadata": {},
   "outputs": [],
   "source": []
  },
  {
   "cell_type": "markdown",
   "id": "acb611a2",
   "metadata": {},
   "source": [
    "# Comparision between different models"
   ]
  },
  {
   "cell_type": "code",
   "execution_count": 88,
   "id": "76d22da7",
   "metadata": {},
   "outputs": [
    {
     "data": {
      "text/html": [
       "<div>\n",
       "<style scoped>\n",
       "    .dataframe tbody tr th:only-of-type {\n",
       "        vertical-align: middle;\n",
       "    }\n",
       "\n",
       "    .dataframe tbody tr th {\n",
       "        vertical-align: top;\n",
       "    }\n",
       "\n",
       "    .dataframe thead th {\n",
       "        text-align: right;\n",
       "    }\n",
       "</style>\n",
       "<table border=\"1\" class=\"dataframe\">\n",
       "  <thead>\n",
       "    <tr style=\"text-align: right;\">\n",
       "      <th></th>\n",
       "      <th>Training score</th>\n",
       "      <th>Testing score</th>\n",
       "    </tr>\n",
       "  </thead>\n",
       "  <tbody>\n",
       "    <tr>\n",
       "      <th>logreg_best_precision</th>\n",
       "      <td>0.644598</td>\n",
       "      <td>0.661538</td>\n",
       "    </tr>\n",
       "    <tr>\n",
       "      <th>logreg_best_recall</th>\n",
       "      <td>0.630505</td>\n",
       "      <td>0.661538</td>\n",
       "    </tr>\n",
       "    <tr>\n",
       "      <th>logreg_best_f1</th>\n",
       "      <td>0.610909</td>\n",
       "      <td>0.661538</td>\n",
       "    </tr>\n",
       "    <tr>\n",
       "      <th>SVM_best_precision</th>\n",
       "      <td>0.771812</td>\n",
       "      <td>0.676923</td>\n",
       "    </tr>\n",
       "    <tr>\n",
       "      <th>SVM_best_recall</th>\n",
       "      <td>0.672222</td>\n",
       "      <td>0.676923</td>\n",
       "    </tr>\n",
       "    <tr>\n",
       "      <th>SVM_best_F1</th>\n",
       "      <td>0.651837</td>\n",
       "      <td>0.676923</td>\n",
       "    </tr>\n",
       "    <tr>\n",
       "      <th>MLP_Classifier_best_precision</th>\n",
       "      <td>0.691275</td>\n",
       "      <td>0.646154</td>\n",
       "    </tr>\n",
       "    <tr>\n",
       "      <th>MLP_Classifier_best_recall</th>\n",
       "      <td>0.397071</td>\n",
       "      <td>0.646154</td>\n",
       "    </tr>\n",
       "    <tr>\n",
       "      <th>MLP_Classifier_best_f1</th>\n",
       "      <td>0.691275</td>\n",
       "      <td>0.615385</td>\n",
       "    </tr>\n",
       "    <tr>\n",
       "      <th>decision_tree_best_precision</th>\n",
       "      <td>0.986577</td>\n",
       "      <td>0.661538</td>\n",
       "    </tr>\n",
       "    <tr>\n",
       "      <th>decision_tree_best_recall</th>\n",
       "      <td>0.664430</td>\n",
       "      <td>0.615385</td>\n",
       "    </tr>\n",
       "    <tr>\n",
       "      <th>decision_tree_best_f1</th>\n",
       "      <td>0.986577</td>\n",
       "      <td>0.661538</td>\n",
       "    </tr>\n",
       "    <tr>\n",
       "      <th>random_forest_best_precision</th>\n",
       "      <td>1.000000</td>\n",
       "      <td>0.738462</td>\n",
       "    </tr>\n",
       "    <tr>\n",
       "      <th>random_forest_best_recall</th>\n",
       "      <td>1.000000</td>\n",
       "      <td>0.800000</td>\n",
       "    </tr>\n",
       "    <tr>\n",
       "      <th>random_forest_best_f1</th>\n",
       "      <td>1.000000</td>\n",
       "      <td>0.784615</td>\n",
       "    </tr>\n",
       "    <tr>\n",
       "      <th>Ensemble Learning</th>\n",
       "      <td>0.892617</td>\n",
       "      <td>0.738462</td>\n",
       "    </tr>\n",
       "  </tbody>\n",
       "</table>\n",
       "</div>"
      ],
      "text/plain": [
       "                               Training score  Testing score\n",
       "logreg_best_precision                0.644598       0.661538\n",
       "logreg_best_recall                   0.630505       0.661538\n",
       "logreg_best_f1                       0.610909       0.661538\n",
       "SVM_best_precision                   0.771812       0.676923\n",
       "SVM_best_recall                      0.672222       0.676923\n",
       "SVM_best_F1                          0.651837       0.676923\n",
       "MLP_Classifier_best_precision        0.691275       0.646154\n",
       "MLP_Classifier_best_recall           0.397071       0.646154\n",
       "MLP_Classifier_best_f1               0.691275       0.615385\n",
       "decision_tree_best_precision         0.986577       0.661538\n",
       "decision_tree_best_recall            0.664430       0.615385\n",
       "decision_tree_best_f1                0.986577       0.661538\n",
       "random_forest_best_precision         1.000000       0.738462\n",
       "random_forest_best_recall            1.000000       0.800000\n",
       "random_forest_best_f1                1.000000       0.784615\n",
       "Ensemble Learning                    0.892617       0.738462"
      ]
     },
     "execution_count": 88,
     "metadata": {},
     "output_type": "execute_result"
    }
   ],
   "source": [
    "model_data = np.array(best_scores)\n",
    "models = ['logreg_best_precision', 'logreg_best_recall', 'logreg_best_f1',\n",
    "          'SVM_best_precision', 'SVM_best_recall', 'SVM_best_F1',\n",
    "          'MLP_Classifier_best_precision', 'MLP_Classifier_best_recall', 'MLP_Classifier_best_f1',\n",
    "          'decision_tree_best_precision', 'decision_tree_best_recall', 'decision_tree_best_f1',\n",
    "          'random_forest_best_precision', 'random_forest_best_recall', 'random_forest_best_f1', 'Ensemble Learning']\n",
    "table_scores = pd.DataFrame(data=model_data, index=models, columns=[\"Training score\", \"Testing score\"])\n",
    "table_scores"
   ]
  },
  {
   "cell_type": "markdown",
   "id": "c5ec374a",
   "metadata": {},
   "source": [
    "### Learning Curve of Random Forest with recall"
   ]
  },
  {
   "cell_type": "code",
   "execution_count": 89,
   "id": "485f1a71",
   "metadata": {},
   "outputs": [
    {
     "data": {
      "image/png": "[encoded data removed]",
      "text/plain": [
       "<Figure size 432x288 with 1 Axes>"
      ]
     },
     "metadata": {
      "needs_background": "light"
     },
     "output_type": "display_data"
    }
   ],
   "source": [
    "test_scores = forest_recall_gs.cv_results_['mean_test_score']\n",
    "train_scores = forest_recall_gs.cv_results_['mean_train_score'] \n",
    "\n",
    "plt.plot(test_scores, label='test')\n",
    "plt.plot(train_scores, label='train')\n",
    "plt.legend(loc='best')\n",
    "plt.show()"
   ]
  },
  {
   "cell_type": "markdown",
   "id": "b03c4964",
   "metadata": {},
   "source": [
    "### Model is overfitting"
   ]
  },
  {
   "cell_type": "markdown",
   "id": "c5212931",
   "metadata": {},
   "source": []
  },
  {
   "cell_type": "markdown",
   "id": "767c13be",
   "metadata": {},
   "source": [
    "#### ROC Curve for Random Forest Recall"
   ]
  },
  {
   "cell_type": "code",
   "execution_count": 92,
   "id": "67ba2700",
   "metadata": {},
   "outputs": [],
   "source": [
    "y_score = forest_recall_gs.predict_proba(X_test)"
   ]
  },
  {
   "cell_type": "code",
   "execution_count": 103,
   "id": "666d9246",
   "metadata": {},
   "outputs": [],
   "source": [
    "from sklearn.preprocessing import label_binarize\n",
    "from sklearn.metrics import roc_curve, auc\n",
    "\n",
    "y_test_bin = label_binarize(y_test, classes=[0, 1, 2, 3, 4, 5])\n",
    "n_classes = y_test_bin.shape[1]"
   ]
  },
  {
   "cell_type": "code",
   "execution_count": 104,
   "id": "ef834c21",
   "metadata": {},
   "outputs": [
    {
     "data": {
      "text/plain": [
       "array([0.28, 0.4 , 0.26, 0.38, 0.3 , 0.26, 0.3 , 0.28, 0.3 , 0.28, 0.32,\n",
       "       0.36, 0.28, 0.3 , 0.24, 0.4 , 0.32, 0.24, 0.3 , 0.12, 0.3 , 0.4 ,\n",
       "       0.4 , 0.38, 0.28, 0.24, 0.28, 0.3 , 0.36, 0.3 , 0.28, 0.3 , 0.3 ,\n",
       "       0.3 , 0.24, 0.4 , 0.4 , 0.08, 0.28, 0.3 , 0.3 , 0.4 , 0.28, 0.3 ,\n",
       "       0.2 , 0.12, 0.28, 0.3 , 0.28, 0.28, 0.06, 0.3 , 0.26, 0.3 , 0.3 ,\n",
       "       0.28, 0.36, 0.28, 0.3 , 0.26, 0.28, 0.28, 0.28, 0.4 , 0.36])"
      ]
     },
     "execution_count": 104,
     "metadata": {},
     "output_type": "execute_result"
    }
   ],
   "source": [
    "y_score[:, 5]"
   ]
  },
  {
   "cell_type": "code",
   "execution_count": 105,
   "id": "51fb99a4",
   "metadata": {},
   "outputs": [
    {
     "name": "stdout",
     "output_type": "stream",
     "text": [
      "AUC for Class 1: 0.7030892448512586\n",
      "AUC for Class 2: 0.6511387163561076\n",
      "AUC for Class 3: 0.6045081967213114\n",
      "AUC for Class 4: 0.8997175141242938\n",
      "AUC for Class 5: 0.7741935483870968\n",
      "AUC for Class 6: 0.9654545454545455\n"
     ]
    },
    {
     "data": {
      "image/png": "[encoded data removed]",
      "text/plain": [
       "<Figure size 432x288 with 1 Axes>"
      ]
     },
     "metadata": {
      "needs_background": "light"
     },
     "output_type": "display_data"
    }
   ],
   "source": [
    "fpr = dict()\n",
    "tpr = dict()\n",
    "roc_auc = dict()\n",
    "\n",
    "for i in range(n_classes):\n",
    "  fpr[i], tpr[i], _ = roc_curve(y_test_bin[:, i], y_score[:, i])\n",
    "  plt.plot(fpr[i], tpr[i], color='darkorange', lw=2)\n",
    "  print('AUC for Class {}: {}'.format(i+1, auc(fpr[i], tpr[i])))\n",
    "\n",
    "plt.plot([0, 1], [0, 1], color='navy', lw=2, linestyle='--')\n",
    "plt.xlim([0.0, 1.0])\n",
    "plt.ylim([0.0, 1.05])\n",
    "plt.xlabel('False Positive Rate')\n",
    "plt.ylabel('True Positive Rate')\n",
    "plt.title('Receiver Operating Characteristic Curves')\n",
    "plt.show()"
   ]
  }
 ],
 "metadata": {
  "kernelspec": {
   "display_name": "Python 3 (ipykernel)",
   "language": "python",
   "name": "python3"
  },
  "language_info": {
   "codemirror_mode": {
    "name": "ipython",
    "version": 3
   },
   "file_extension": ".py",
   "mimetype": "text/x-python",
   "name": "python",
   "nbconvert_exporter": "python",
   "pygments_lexer": "ipython3",
   "version": "3.9.5"
  }
 },
 "nbformat": 4,
 "nbformat_minor": 5
}
